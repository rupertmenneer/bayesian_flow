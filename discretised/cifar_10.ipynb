{
 "cells": [
  {
   "cell_type": "code",
   "execution_count": 44,
   "metadata": {},
   "outputs": [
    {
     "name": "stdout",
     "output_type": "stream",
     "text": [
      "The autoreload extension is already loaded. To reload it, use:\n",
      "  %reload_ext autoreload\n",
      "Files already downloaded and verified\n",
      "Files already downloaded and verified\n",
      "Files already downloaded and verified\n",
      "Loaded pretrained model checkpoint ./bfn_model_checkpoint.pth\n"
     ]
    }
   ],
   "source": [
    "%load_ext autoreload\n",
    "%autoreload 2\n",
    "import sys\n",
    "sys.path.append('/Users/rupertmenneer/Documents/git/bayesian_flow/')\n",
    "from discretised.trainer import DiscretisedBFNTrainer\n",
    "# 150e3a3656bc3e6c76366ee98da5b0fd9f7c16ea\n",
    "trainer = DiscretisedBFNTrainer(wandb_project_name=None, checkpoint_file='./bfn_model_checkpoint.pth', max_lr=1)\n",
    "# trainer.lr_sched.step()\n",
    "# trainer.train()"
   ]
  },
  {
   "cell_type": "code",
   "execution_count": 45,
   "metadata": {},
   "outputs": [
    {
     "data": {
      "text/plain": [
       "0.0002"
      ]
     },
     "execution_count": 45,
     "metadata": {},
     "output_type": "execute_result"
    }
   ],
   "source": [
    "trainer.optim.param_groups[0]['lr']"
   ]
  },
  {
   "cell_type": "code",
   "execution_count": null,
   "metadata": {},
   "outputs": [],
   "source": [
    "trainer.save_model()"
   ]
  },
  {
   "cell_type": "code",
   "execution_count": null,
   "metadata": {},
   "outputs": [],
   "source": [
    "batch = next(iter(trainer.train_dls))\n",
    "print(batch.shape)"
   ]
  },
  {
   "cell_type": "code",
   "execution_count": null,
   "metadata": {},
   "outputs": [],
   "source": [
    "trainer.bfn_model.continuous_time_loss_for_discretised_data(batch)"
   ]
  },
  {
   "cell_type": "code",
   "execution_count": null,
   "metadata": {},
   "outputs": [],
   "source": [
    "trainer.train()"
   ]
  },
  {
   "cell_type": "code",
   "execution_count": null,
   "metadata": {},
   "outputs": [],
   "source": [
    "import torch\n",
    "from datasets.utils import get_image_grid_from_tensor\n",
    "model = trainer.bfn_model\n",
    "model.eval()\n",
    "\n",
    "# Generate samples and priors\n",
    "samples, priors = model.sample_generation_for_discretised_data(n_steps=5)\n",
    "samples = samples.to(torch.float32)\n"
   ]
  },
  {
   "cell_type": "code",
   "execution_count": null,
   "metadata": {},
   "outputs": [],
   "source": [
    "samples = samples.transpose(1, 3)\n",
    "image_grid = get_image_grid_from_tensor(samples)\n",
    "# Convert samples and priors to numpy arrays\n",
    "image_grid = image_grid.detach().numpy()\n",
    "priors_np = priors.detach().numpy()"
   ]
  },
  {
   "cell_type": "code",
   "execution_count": null,
   "metadata": {},
   "outputs": [],
   "source": [
    "print(samples.shape, image_grid.shape)"
   ]
  },
  {
   "cell_type": "code",
   "execution_count": null,
   "metadata": {},
   "outputs": [],
   "source": [
    "import wandb\n",
    "import numpy as np\n",
    "wandb.init(project=\"bayesian_flow\")\n",
    "image_grid = np.transpose(image_grid, (2, 1, 0))\n",
    "print(image_grid.shape)\n",
    "images = wandb.Image(image_grid, caption=\"CIFAR10 - Sampled Images from BFN\")\n",
    "wandb.log({\"image_samples\": images})"
   ]
  },
  {
   "cell_type": "code",
   "execution_count": null,
   "metadata": {},
   "outputs": [],
   "source": [
    "import matplotlib.pyplot as plt\n",
    "import numpy as np\n",
    "from PIL import Image\n",
    "# Image.fromarray(image_grid)\n",
    "plt.imshow()"
   ]
  },
  {
   "cell_type": "code",
   "execution_count": null,
   "metadata": {},
   "outputs": [],
   "source": [
    "import torch\n",
    "import torch.distributions as dist\n",
    "\n",
    "d=8\n",
    "bs=32\n",
    "mu_x = torch.zeros((bs, d))\n",
    "sigma_x = torch.ones((bs, d))\n",
    "normal_dist = dist.Normal(mu_x, sigma_x)\n",
    "\n",
    "k_lower = torch.linspace(-3, 3, 16)\n",
    "k_lower_broadcasted = k_lower.repeat(d, bs, 1).transpose(0, 2)\n",
    "# print(k_lower_broadcasted)\n",
    "print(k_lower_broadcasted.shape)\n",
    "correct_shape = torch.ones((16, bs, d))\n",
    "cdf_values_lower = normal_dist.cdf(k_lower_broadcasted).permute(1, 2, 0)\n",
    "print(cdf_values_lower.shape)\n",
    "print(cdf_values_lower[0, 0, :])"
   ]
  },
  {
   "cell_type": "code",
   "execution_count": null,
   "metadata": {},
   "outputs": [],
   "source": [
    "from datasets.cifar_10 import get_cifar10_dataloaders\n",
    "k = 16\n",
    "train_dls, val_dls, test_dls = get_cifar10_dataloaders(batch_size=128, num_bins=k)\n",
    "print(len(train_dls), len(val_dls), len(test_dls))\n",
    "import torch\n",
    "from datasets.utils import plot_tensor_images\n",
    "train_batch = next(iter(train_dls))\n",
    "print(train_batch.shape)\n",
    "plot_tensor_images(train_batch)\n",
    "print(torch.max(train_batch), torch.min(train_batch), len(torch.unique(train_batch)))"
   ]
  }
 ],
 "metadata": {
  "kernelspec": {
   "display_name": "ml",
   "language": "python",
   "name": "python3"
  },
  "language_info": {
   "codemirror_mode": {
    "name": "ipython",
    "version": 3
   },
   "file_extension": ".py",
   "mimetype": "text/x-python",
   "name": "python",
   "nbconvert_exporter": "python",
   "pygments_lexer": "ipython3",
   "version": "3.11.7"
  }
 },
 "nbformat": 4,
 "nbformat_minor": 2
}
