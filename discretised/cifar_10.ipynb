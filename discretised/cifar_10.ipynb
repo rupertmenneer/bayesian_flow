{
 "cells": [
  {
   "cell_type": "code",
   "execution_count": 2,
   "metadata": {},
   "outputs": [
    {
     "name": "stdout",
     "output_type": "stream",
     "text": [
      "The autoreload extension is already loaded. To reload it, use:\n",
      "  %reload_ext autoreload\n",
      "Files already downloaded and verified\n",
      "Files already downloaded and verified\n",
      "Files already downloaded and verified\n"
     ]
    }
   ],
   "source": [
    "%load_ext autoreload\n",
    "%autoreload 2\n",
    "import sys\n",
    "sys.path.append('/Users/rupertmenneer/Documents/git/bayesian_flow/')\n",
    "from datasets.cifar_10 import get_cifar10_dataloaders\n",
    "k = 16\n",
    "train_dls, val_dls, test_dls = get_cifar10_dataloaders(batch_size=32, num_bins=k)\n",
    "print(len(train_dls), len(val_dls), len(test_dls))"
   ]
  },
  {
   "cell_type": "code",
   "execution_count": null,
   "metadata": {},
   "outputs": [],
   "source": [
    "import torch\n",
    "from datasets.utils import plot_tensor_images\n",
    "train_batch = next(iter(train_dls))\n",
    "train_batch.shape\n",
    "plot_tensor_images(train_batch)\n",
    "print(torch.max(train_batch), torch.min(train_batch), len(torch.unique(train_batch)))"
   ]
  },
  {
   "cell_type": "code",
   "execution_count": 13,
   "metadata": {},
   "outputs": [
    {
     "name": "stdout",
     "output_type": "stream",
     "text": [
      "Files already downloaded and verified\n",
      "Files already downloaded and verified\n",
      "Files already downloaded and verified\n"
     ]
    },
    {
     "ename": "TypeError",
     "evalue": "OutputAdapter.__init__() missing 3 required positional arguments: 'input_height', 'output_channels', and 'output_height'",
     "output_type": "error",
     "traceback": [
      "\u001b[0;31m---------------------------------------------------------------------------\u001b[0m",
      "\u001b[0;31mTypeError\u001b[0m                                 Traceback (most recent call last)",
      "Cell \u001b[0;32mIn[13], line 2\u001b[0m\n\u001b[1;32m      1\u001b[0m \u001b[38;5;28;01mfrom\u001b[39;00m \u001b[38;5;21;01mdiscretised\u001b[39;00m\u001b[38;5;21;01m.\u001b[39;00m\u001b[38;5;21;01mtrainer\u001b[39;00m \u001b[38;5;28;01mimport\u001b[39;00m DiscretisedBFNTrainer\n\u001b[0;32m----> 2\u001b[0m trainer \u001b[38;5;241m=\u001b[39m \u001b[43mDiscretisedBFNTrainer\u001b[49m\u001b[43m(\u001b[49m\u001b[43m)\u001b[49m\n",
      "File \u001b[0;32m~/Documents/git/bayesian_flow/discretised/trainer.py:40\u001b[0m, in \u001b[0;36mDiscretisedBFNTrainer.__init__\u001b[0;34m(self, k, device, bs, lr, betas, weight_decay, sigma_one, model, optimizer, dataset, wandb_project_name)\u001b[0m\n\u001b[1;32m     38\u001b[0m \u001b[38;5;28;01mif\u001b[39;00m model \u001b[38;5;129;01mis\u001b[39;00m \u001b[38;5;28;01mNone\u001b[39;00m:\n\u001b[1;32m     39\u001b[0m     input_adaptor \u001b[38;5;241m=\u001b[39m FourierImageInputAdapter()\n\u001b[0;32m---> 40\u001b[0m     output_adaptor \u001b[38;5;241m=\u001b[39m \u001b[43mOutputAdapter\u001b[49m\u001b[43m(\u001b[49m\u001b[43m)\u001b[49m\n\u001b[1;32m     41\u001b[0m     \u001b[38;5;28mself\u001b[39m\u001b[38;5;241m.\u001b[39mnet \u001b[38;5;241m=\u001b[39m UNetVDM()\n\u001b[1;32m     42\u001b[0m \u001b[38;5;28;01melse\u001b[39;00m:\n",
      "\u001b[0;31mTypeError\u001b[0m: OutputAdapter.__init__() missing 3 required positional arguments: 'input_height', 'output_channels', and 'output_height'"
     ]
    }
   ],
   "source": [
    "from discretised.trainer import DiscretisedBFNTrainer\n",
    "trainer = DiscretisedBFNTrainer()\n"
   ]
  }
 ],
 "metadata": {
  "kernelspec": {
   "display_name": "ml",
   "language": "python",
   "name": "python3"
  },
  "language_info": {
   "codemirror_mode": {
    "name": "ipython",
    "version": 3
   },
   "file_extension": ".py",
   "mimetype": "text/x-python",
   "name": "python",
   "nbconvert_exporter": "python",
   "pygments_lexer": "ipython3",
   "version": "3.11.7"
  }
 },
 "nbformat": 4,
 "nbformat_minor": 2
}
