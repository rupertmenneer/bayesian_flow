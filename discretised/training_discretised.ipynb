{
 "cells": [
  {
   "cell_type": "code",
   "execution_count": null,
   "metadata": {},
   "outputs": [],
   "source": [
    "%load_ext autoreload\n",
    "%autoreload 2\n",
    "import sys\n",
    "sys.path.append('/Users/rupertmenneer/Documents/git/bayesian_flow/')\n",
    "from discretised.bfn_discretised_data import DiscretisedBimodalData\n",
    "from discretised.bfn_discretised import BayesianFlowNetworkDiscretised\n",
    "from bfn.models import SimpleNeuralNetworkDiscretised\n",
    "from torch.utils.data import DataLoader\n",
    "from torch.optim import Adam, SGD\n",
    "import matplotlib.pyplot as plt\n",
    "import torch\n",
    "torch.set_printoptions(precision=5, sci_mode=False)\n",
    "dataset = DiscretisedBimodalData(n=1000, k=32)\n",
    "dataloader = DataLoader(dataset, batch_size=256, shuffle=True)\n",
    "batch = next(iter(dataloader))\n",
    "bfn_model = BayesianFlowNetworkDiscretised(SimpleNeuralNetworkDiscretised())\n",
    "loss = bfn_model.continuous_time_loss_for_discretised_data(batch)\n"
   ]
  },
  {
   "cell_type": "code",
   "execution_count": null,
   "metadata": {},
   "outputs": [],
   "source": [
    "batch = next(iter(dataloader))\n",
    "print(batch.shape)\n",
    "\n",
    "plt.hist(batch.numpy(), bins=32, density=True)\n"
   ]
  },
  {
   "cell_type": "code",
   "execution_count": null,
   "metadata": {},
   "outputs": [],
   "source": [
    "\n",
    "bfn_model = BayesianFlowNetworkDiscretised(SimpleNeuralNetworkDiscretised())\n",
    "optim = Adam(bfn_model.parameters(), lr=3e-6, betas=(0.9, 0.98), weight_decay=0.01)\n",
    "# optim = SGD(bfn_model.parameters(), lr=0.001)\n",
    "\n",
    "epochs = 5000\n",
    "losses = []\n",
    "n_batches_track = 100\n",
    "for i in range(epochs):\n",
    "    for _, batch in enumerate(dataloader):\n",
    "        optim.zero_grad()\n",
    "        loss = bfn_model.continuous_time_loss_for_discretised_data(batch)\n",
    "        loss.backward()\n",
    "        optim.step()\n",
    "        losses.append(loss.item())\n",
    "    if i%n_batches_track == 0:\n",
    "        print(f'Epoch {i+1}/{epochs}, Loss: {loss.item()}')\n",
    "\n"
   ]
  },
  {
   "cell_type": "code",
   "execution_count": null,
   "metadata": {},
   "outputs": [],
   "source": [
    "plt.plot(losses)\n",
    "plt.xlabel('epoch')\n",
    "plt.ylabel('loss')\n",
    "plt.title('Training loss')"
   ]
  },
  {
   "cell_type": "markdown",
   "metadata": {},
   "source": [
    "# Sample generation"
   ]
  },
  {
   "cell_type": "code",
   "execution_count": null,
   "metadata": {},
   "outputs": [],
   "source": [
    "dataloader = DataLoader(dataset, batch_size=64, shuffle=True)\n",
    "batch = next(iter(dataloader))\n",
    "batch.shape"
   ]
  },
  {
   "cell_type": "code",
   "execution_count": null,
   "metadata": {},
   "outputs": [],
   "source": [
    "samples, priors = bfn_model.sample_generation_for_discretised_data(n_steps=50, bs=64)\n",
    "samples = samples.to(torch.float32)\n",
    "plt.hist(samples.detach().numpy(), alpha=0.8, bins=64, label='BFN Samples', color='orange')\n",
    "plt.hist(batch.numpy(), bins=64, alpha=0.5, label='True Samples')\n",
    "plt.title('Samples from Discretised BFN model')\n",
    "plt.legend()"
   ]
  },
  {
   "cell_type": "code",
   "execution_count": null,
   "metadata": {},
   "outputs": [],
   "source": [
    "plt.plot(priors.detach().numpy()[:10, :, 0, :].squeeze().T, label='Prior mu');\n",
    "# plt.plot(priors.detach().numpy()[0, :, 1, :].squeeze(), label='Prior precision')"
   ]
  },
  {
   "cell_type": "code",
   "execution_count": null,
   "metadata": {},
   "outputs": [],
   "source": [
    " ls ../bfn_github/"
   ]
  },
  {
   "cell_type": "code",
   "execution_count": null,
   "metadata": {},
   "outputs": [],
   "source": [
    "\n",
    "from bfn_github.bfn import BayesianFlowNetwork\n",
    "import torch\n",
    "# network should learn:\n",
    "# when x0 = 0, x1 = 1\n",
    "# when x0 = 1, x1 = 0\n",
    "def get_datapoint(batch=128, device='cpu'):\n",
    "    x0 = torch.randint(0, 2, size=(batch,), dtype=torch.bool, device=device)\n",
    "    x1 = ~x0\n",
    "\n",
    "    X = torch.stack([x0, x1], dim=0)\n",
    "    return X.long().transpose(0, 1)\n",
    "\n",
    "X = get_datapoint()  # (B, D=2) with K=2 classes \n",
    "print(X.shape)\n",
    "# plt.title(\"Dataset\")\n",
    "# plt.scatter(X[:, 0], X[:, 1]);\n",
    "# plt.grid()\n",
    "\n",
    "from torch.optim import AdamW\n",
    "from tqdm.auto import tqdm\n",
    "\n",
    "bfn = BayesianFlowNetwork()\n",
    "\n",
    "optim = AdamW(bfn.parameters(), lr=1e-2)\n",
    "\n",
    "\n",
    "n = 1000\n",
    "losses = []\n",
    "for i in tqdm(range(n)):\n",
    "    optim.zero_grad()\n",
    "    X = get_datapoint(device='cpu')\n",
    "    loss = bfn.process(X)\n",
    "    loss.backward()\n",
    "    optim.step()\n",
    "    losses.append(loss.item())\n",
    "\n",
    "bfn.sample(16)"
   ]
  },
  {
   "cell_type": "code",
   "execution_count": null,
   "metadata": {},
   "outputs": [],
   "source": [
    "torch.nn.functional.one_hot(torch.tensor([2, 1]).unsqueeze(0), num_classes=3)\n",
    "def vectorised_discretised_cdf(mu, sigma, bounds):\n",
    "    # input is mu, sigma -> B x D, and bounds -> K\n",
    "    lower_mask = bounds < -1\n",
    "    upper_mask = bounds > 1\n",
    "\n",
    "    # output is B x D x K\n",
    "    result = torch.zeros(mu.shape[0], mu.shape[1], bounds.shape[0])\n",
    "    result = 0.5 * (1 + torch.erf((bounds - mu.unsqueeze(-1)) / (sigma.unsqueeze(-1) * torch.sqrt(torch.tensor(2.0)))))\n",
    "    # clip result depending on boundsa\n",
    "    result[:, :, lower_mask] = 0\n",
    "    result[:, :, upper_mask] = 1\n",
    "\n",
    "    return result\n",
    "\n",
    "mu = torch.randn(2, 2)\n",
    "sigma = torch.ones(2, 2)\n",
    "bounds = torch.linspace(-1.1, 1.1, 4)\n",
    "\n",
    "cdf = vectorised_discretised_cdf(mu, sigma, bounds)\n",
    "\n",
    "print(cdf)"
   ]
  }
 ],
 "metadata": {
  "kernelspec": {
   "display_name": "ml",
   "language": "python",
   "name": "python3"
  },
  "language_info": {
   "codemirror_mode": {
    "name": "ipython",
    "version": 3
   },
   "file_extension": ".py",
   "mimetype": "text/x-python",
   "name": "python",
   "nbconvert_exporter": "python",
   "pygments_lexer": "ipython3",
   "version": "3.11.7"
  }
 },
 "nbformat": 4,
 "nbformat_minor": 2
}
