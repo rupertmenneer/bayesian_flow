{
 "cells": [
  {
   "cell_type": "code",
   "execution_count": 1,
   "metadata": {},
   "outputs": [],
   "source": [
    "%load_ext autoreload\n",
    "%autoreload 2\n",
    "import sys\n",
    "sys.path.append('/Users/rupertmenneer/Documents/git/bayesian_flow/')"
   ]
  },
  {
   "cell_type": "markdown",
   "metadata": {},
   "source": [
    "This example is 1 DIMENSIONAL (D), with 16 BINS (K)"
   ]
  },
  {
   "cell_type": "code",
   "execution_count": 4,
   "metadata": {},
   "outputs": [
    {
     "name": "stdout",
     "output_type": "stream",
     "text": [
      "torch.Size([1024])\n"
     ]
    },
    {
     "data": {
      "text/plain": [
       "(array([ 17.,  99., 184., 157.,  49.,  13.,   4.,  38.,  60.,  67., 113.,\n",
       "         83.,  77.,  37.,  16.,  10.]),\n",
       " array([-0.9375   , -0.8203125, -0.703125 , -0.5859375, -0.46875  ,\n",
       "        -0.3515625, -0.234375 , -0.1171875,  0.       ,  0.1171875,\n",
       "         0.234375 ,  0.3515625,  0.46875  ,  0.5859375,  0.703125 ,\n",
       "         0.8203125,  0.9375   ]),\n",
       " <BarContainer object of 16 artists>)"
      ]
     },
     "execution_count": 4,
     "metadata": {},
     "output_type": "execute_result"
    },
    {
     "data": {
      "image/png": "[encoded data removed]",
      "text/plain": [
       "<Figure size 640x480 with 1 Axes>"
      ]
     },
     "metadata": {},
     "output_type": "display_data"
    }
   ],
   "source": [
    "from discretised.bfn_discretised_data import DiscretisedBimodalData\n",
    "from torch.utils.data import DataLoader\n",
    "import matplotlib.pyplot as plt\n",
    "import torch\n",
    "\n",
    "dataset = DiscretisedBimodalData(k=16)\n",
    "dataloader = DataLoader(dataset, batch_size=1024, shuffle=True)\n",
    "batch = next(iter(dataloader))\n",
    "print(batch.shape)\n",
    "plt.hist(batch.numpy(), bins=16)"
   ]
  },
  {
   "cell_type": "code",
   "execution_count": 8,
   "metadata": {},
   "outputs": [
    {
     "name": "stdout",
     "output_type": "stream",
     "text": [
      "tensor([-0.9375, -0.8125, -0.6875, -0.5625, -0.4375, -0.3125, -0.1875, -0.0625,\n",
      "         0.0625,  0.1875,  0.3125,  0.4375,  0.5625,  0.6875,  0.8125,  0.9375])\n"
     ]
    }
   ],
   "source": [
    "k_ = torch.linspace(1, 16, 16)\n",
    "\n",
    "print(((2 * k_ - 1)/16) - 1)"
   ]
  },
  {
   "cell_type": "code",
   "execution_count": 14,
   "metadata": {},
   "outputs": [
    {
     "name": "stdout",
     "output_type": "stream",
     "text": [
      "torch.Size([16])\n"
     ]
    }
   ],
   "source": [
    "output_probs = torch.ones((16, 16))/16\n",
    "\n",
    "k_hat = torch.sum(k_*output_probs, dim=-1)\n",
    "\n",
    "print(k_hat.shape)"
   ]
  },
  {
   "cell_type": "code",
   "execution_count": null,
   "metadata": {},
   "outputs": [],
   "source": [
    "k_c = torch.sum(output_distribution*k_c, dim=-1)"
   ]
  },
  {
   "cell_type": "code",
   "execution_count": null,
   "metadata": {},
   "outputs": [],
   "source": [
    "sigmoid, softmax = [],[]\n",
    "for p in torch.linspace(0, 1, 100):\n",
    "    a = [p, 1-p]\n",
    "    softmax_a = torch.nn.functional.softmax(torch.tensor(a), dim=0)\n",
    "    sigmoid_a = torch.sigmoid(torch.tensor(a))\n",
    "    sigmoid_a[1] = 1-sigmoid_a[0]\n",
    "    sigmoid.append(sigmoid_a)\n",
    "    softmax.append(softmax_a)\n",
    "\n",
    "plt.plot(torch.linspace(0, 1, 100), sigmoid, label='sigmoid', linestyle='--')\n",
    "plt.plot(torch.linspace(0, 1, 100), softmax, label='softmax')\n",
    "plt.xlabel('p')\n",
    "plt.legend()"
   ]
  },
  {
   "cell_type": "code",
   "execution_count": null,
   "metadata": {},
   "outputs": [],
   "source": [
    "from bfn import BayesianFlowNetwork\n",
    "from models import SimpleNeuralNetwork\n",
    "from torch.optim import AdamW\n",
    "from bfn_discrete_data import BinaryData, BinaryDataLoader\n",
    "import matplotlib.pyplot as plt\n",
    "dataset = BinaryData(1000, 2)\n",
    "dataloader = BinaryDataLoader(dataset, batch_size=100, shuffle=True)\n",
    "bfn_model = BayesianFlowNetwork(SimpleNeuralNetwork(), 2)\n",
    "optim = AdamW(bfn_model.parameters(), lr=3e-4, betas=(0.9, 0.98), weight_decay=0.01)\n",
    "\n",
    "epochs = 100\n",
    "losses = []\n",
    "for i in range(epochs):\n",
    "    for _, batch in enumerate(dataloader):\n",
    "        optim.zero_grad()\n",
    "        loss = bfn_model.continuous_time_loss_for_discrete_data(batch)\n",
    "        loss.backward()\n",
    "        optim.step()\n",
    "        losses.append(loss.item())\n",
    "    print(f'Epoch {i+1}/{epochs}, Loss: {loss.item()}')"
   ]
  },
  {
   "cell_type": "code",
   "execution_count": null,
   "metadata": {},
   "outputs": [],
   "source": [
    "plt.plot(losses)"
   ]
  },
  {
   "cell_type": "code",
   "execution_count": null,
   "metadata": {},
   "outputs": [],
   "source": [
    "samples = bfn_model.sample_generation_for_discrete_data(n_steps=10).to(torch.float32)\n",
    "samples = samples + torch.randn_like(samples)*0.1\n",
    "plt.scatter(0, 1, c='r')\n",
    "plt.scatter(1, 0, c='r')\n",
    "plt.scatter(samples[:, 0], samples[:, 1])"
   ]
  },
  {
   "cell_type": "code",
   "execution_count": null,
   "metadata": {},
   "outputs": [],
   "source": [
    " ls ../bfn_github/"
   ]
  },
  {
   "cell_type": "code",
   "execution_count": null,
   "metadata": {},
   "outputs": [],
   "source": [
    "\n",
    "from bfn_github.bfn import BayesianFlowNetwork\n",
    "import torch\n",
    "# network should learn:\n",
    "# when x0 = 0, x1 = 1\n",
    "# when x0 = 1, x1 = 0\n",
    "def get_datapoint(batch=128, device='cpu'):\n",
    "    x0 = torch.randint(0, 2, size=(batch,), dtype=torch.bool, device=device)\n",
    "    x1 = ~x0\n",
    "\n",
    "    X = torch.stack([x0, x1], dim=0)\n",
    "    return X.long().transpose(0, 1)\n",
    "\n",
    "X = get_datapoint()  # (B, D=2) with K=2 classes \n",
    "print(X.shape)\n",
    "# plt.title(\"Dataset\")\n",
    "# plt.scatter(X[:, 0], X[:, 1]);\n",
    "# plt.grid()\n",
    "\n",
    "from torch.optim import AdamW\n",
    "from tqdm.auto import tqdm\n",
    "\n",
    "bfn = BayesianFlowNetwork()\n",
    "\n",
    "optim = AdamW(bfn.parameters(), lr=1e-2)\n",
    "\n",
    "\n",
    "n = 1000\n",
    "losses = []\n",
    "for i in tqdm(range(n)):\n",
    "    optim.zero_grad()\n",
    "    X = get_datapoint(device='cpu')\n",
    "    loss = bfn.process(X)\n",
    "    loss.backward()\n",
    "    optim.step()\n",
    "    losses.append(loss.item())\n",
    "\n",
    "bfn.sample(16)"
   ]
  },
  {
   "cell_type": "code",
   "execution_count": null,
   "metadata": {},
   "outputs": [],
   "source": [
    "torch.nn.functional.one_hot(torch.tensor([2, 1]).unsqueeze(0), num_classes=3)"
   ]
  }
 ],
 "metadata": {
  "kernelspec": {
   "display_name": "ml",
   "language": "python",
   "name": "python3"
  },
  "language_info": {
   "codemirror_mode": {
    "name": "ipython",
    "version": 3
   },
   "file_extension": ".py",
   "mimetype": "text/x-python",
   "name": "python",
   "nbconvert_exporter": "python",
   "pygments_lexer": "ipython3",
   "version": "3.11.7"
  }
 },
 "nbformat": 4,
 "nbformat_minor": 2
}
