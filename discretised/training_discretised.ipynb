{
 "cells": [
  {
   "cell_type": "code",
   "execution_count": 1,
   "metadata": {},
   "outputs": [],
   "source": [
    "%load_ext autoreload\n",
    "%autoreload 2\n",
    "import sys\n",
    "sys.path.append('/Users/rupertmenneer/Documents/git/bayesian_flow/')\n",
    "from discretised.bfn_discretised_data import DiscretisedBimodalData\n",
    "from discretised.bfn_discretised import BayesianFlowNetworkDiscretised\n",
    "from bfn.models import SimpleNeuralNetworkDiscretised\n",
    "from torch.utils.data import DataLoader\n",
    "from torch.optim import Adam, SGD, AdamW\n",
    "import matplotlib.pyplot as plt\n",
    "import torch\n",
    "torch.set_printoptions(precision=5, sci_mode=False)\n",
    "dataset = DiscretisedBimodalData(n=1000, k=16)\n",
    "dataloader = DataLoader(dataset, batch_size=128, shuffle=True, drop_last=True)\n",
    "batch = next(iter(dataloader))\n",
    "# # print(batch)\n",
    "# # bfn_model = BayesianFlowNetworkDiscretised(SimpleNeuralNetworkDiscretised())\n",
    "# # loss = bfn_model.continuous_time_loss_for_discretised_data(batch)\n",
    "# # print(loss)\n",
    "# len(torch.unique(batch))\n",
    "# print(torch.unique(batch))"
   ]
  },
  {
   "cell_type": "code",
   "execution_count": 2,
   "metadata": {},
   "outputs": [
    {
     "name": "stdout",
     "output_type": "stream",
     "text": [
      "Epoch 1/1000, Loss: 3.1252245903015137\n",
      "Epoch 101/1000, Loss: 2.276449680328369\n",
      "Epoch 201/1000, Loss: 2.3635880947113037\n",
      "Epoch 301/1000, Loss: 1.9680235385894775\n",
      "Epoch 401/1000, Loss: 2.172640323638916\n",
      "Epoch 501/1000, Loss: 1.8608038425445557\n",
      "Epoch 601/1000, Loss: 1.9522559642791748\n",
      "Epoch 701/1000, Loss: 2.1995339393615723\n",
      "Epoch 801/1000, Loss: 1.71780264377594\n",
      "Epoch 901/1000, Loss: 1.9333823919296265\n"
     ]
    }
   ],
   "source": [
    "from torch_ema import ExponentialMovingAverage\n",
    "\n",
    "device = 'cpu'\n",
    "bfn_model = BayesianFlowNetworkDiscretised(SimpleNeuralNetworkDiscretised(), device=device).to(device)\n",
    "optim = AdamW(bfn_model.parameters(), lr=3e-4, betas=(0.9, 0.98), weight_decay=0.01)\n",
    "# optim = SGD(bfn_model.parameters(), lr=0.001)\n",
    "ema = ExponentialMovingAverage(bfn_model.parameters(), decay=0.995)\n",
    "torch.autograd.set_detect_anomaly(True)\n",
    "epochs = 1000\n",
    "losses = []\n",
    "n_batches_track = 100\n",
    "for i in range(epochs):\n",
    "    # print(i)\n",
    "    epoch_losses = []\n",
    "    for _, batch in enumerate(dataloader):\n",
    "        optim.zero_grad()\n",
    "        loss = bfn_model.continuous_time_loss_for_discretised_data(batch.to(device))\n",
    "        loss.backward()\n",
    "        torch.nn.utils.clip_grad_norm_(bfn_model.parameters(), max_norm=2.0)\n",
    "        optim.step()\n",
    "        # Update the moving average with the new parameters from the last optimizer step\n",
    "        ema.update()\n",
    "        epoch_losses.append(loss.item())\n",
    "    if i%n_batches_track == 0:\n",
    "        print(f'Epoch {i+1}/{epochs}, Loss: {torch.mean(torch.tensor(epoch_losses))}')\n",
    "    losses.append(torch.mean(torch.tensor(epoch_losses)))\n",
    "\n"
   ]
  },
  {
   "cell_type": "code",
   "execution_count": null,
   "metadata": {},
   "outputs": [],
   "source": [
    "plt.plot(losses)\n",
    "plt.xlabel('epoch')\n",
    "plt.ylabel('loss')\n",
    "plt.title('Training loss')"
   ]
  },
  {
   "cell_type": "code",
   "execution_count": null,
   "metadata": {},
   "outputs": [],
   "source": [
    "# batch = next(iter(dataloader))\n",
    "# print(batch.shape)\n",
    "\n",
    "# plt.hist(batch.numpy(), bins=16, density=True)\n"
   ]
  },
  {
   "cell_type": "markdown",
   "metadata": {},
   "source": [
    "# Sample generation"
   ]
  },
  {
   "cell_type": "code",
   "execution_count": null,
   "metadata": {},
   "outputs": [],
   "source": [
    "bs=256\n",
    "dataloader = DataLoader(dataset, batch_size=bs, shuffle=True)\n",
    "batch = next(iter(dataloader))\n",
    "batch.shape"
   ]
  },
  {
   "cell_type": "code",
   "execution_count": null,
   "metadata": {},
   "outputs": [],
   "source": [
    "bs=256\n",
    "dataloader = DataLoader(dataset, batch_size=bs, shuffle=True)\n",
    "batch = next(iter(dataloader))\n",
    "batch.shape\n",
    "with ema.average_parameters():\n",
    "    samples, priors = bfn_model.sample_generation_for_discretised_data(n_steps=15, bs=bs)\n",
    "    samples = samples.to(torch.float32)\n",
    "\n",
    "k=16\n",
    "plt.hist(samples.detach().numpy(), alpha=0.8, bins=k, label='BFN Samples', color='orange')\n",
    "plt.hist(batch.numpy(), bins=k, alpha=0.5, label='True Samples')\n",
    "plt.title('Samples from Discretised BFN model')\n",
    "plt.legend()"
   ]
  },
  {
   "cell_type": "code",
   "execution_count": null,
   "metadata": {},
   "outputs": [],
   "source": [
    "# priors"
   ]
  },
  {
   "cell_type": "code",
   "execution_count": null,
   "metadata": {},
   "outputs": [],
   "source": [
    "plt.plot(priors.detach().numpy()[:, :, 0, :].squeeze().T, label='Prior mu', alpha=0.1);\n",
    "# plt.plot(priors.detach().numpy()[0, :, 1, :].squeeze(), label='Prior precision')"
   ]
  },
  {
   "cell_type": "code",
   "execution_count": null,
   "metadata": {},
   "outputs": [],
   "source": [
    "\n",
    "from bfn_github.bfn import BayesianFlowNetwork\n",
    "import torch\n",
    "# network should learn:\n",
    "# when x0 = 0, x1 = 1\n",
    "# when x0 = 1, x1 = 0\n",
    "def get_datapoint(batch=128, device='cpu'):\n",
    "    x0 = torch.randint(0, 2, size=(batch,), dtype=torch.bool, device=device)\n",
    "    x1 = ~x0\n",
    "\n",
    "    X = torch.stack([x0, x1], dim=0)\n",
    "    return X.long().transpose(0, 1)\n",
    "\n",
    "X = get_datapoint()  # (B, D=2) with K=2 classes \n",
    "print(X.shape)\n",
    "# plt.title(\"Dataset\")\n",
    "# plt.scatter(X[:, 0], X[:, 1]);\n",
    "# plt.grid()\n",
    "\n",
    "from torch.optim import AdamW\n",
    "from tqdm.auto import tqdm\n",
    "\n",
    "bfn = BayesianFlowNetwork()\n",
    "\n",
    "optim = AdamW(bfn.parameters(), lr=1e-2)\n",
    "\n",
    "\n",
    "n = 1000\n",
    "losses = []\n",
    "for i in tqdm(range(n)):\n",
    "    optim.zero_grad()\n",
    "    X = get_datapoint(device='cpu')\n",
    "    loss = bfn.process(X)\n",
    "    loss.backward()\n",
    "    optim.step()\n",
    "    losses.append(loss.item())\n",
    "\n",
    "bfn.sample(16)"
   ]
  },
  {
   "cell_type": "code",
   "execution_count": null,
   "metadata": {},
   "outputs": [],
   "source": [
    "torch.nn.functional.one_hot(torch.tensor([2, 1]).unsqueeze(0), num_classes=3)\n",
    "def vectorised_discretised_cdf(mu, sigma, bounds):\n",
    "    # input is mu, sigma -> B x D, and bounds -> K\n",
    "    lower_mask = bounds < -1\n",
    "    upper_mask = bounds > 1\n",
    "\n",
    "    # output is B x D x K\n",
    "    result = torch.zeros(mu.shape[0], mu.shape[1], bounds.shape[0])\n",
    "    result = 0.5 * (1 + torch.erf((bounds - mu.unsqueeze(-1)) / (sigma.unsqueeze(-1) * torch.sqrt(torch.tensor(2.0)))))\n",
    "    # clip result depending on boundsa\n",
    "    result[:, :, lower_mask] = 0\n",
    "    result[:, :, upper_mask] = 1\n",
    "\n",
    "    return result\n",
    "\n",
    "mu = torch.randn(2, 2)\n",
    "sigma = torch.ones(2, 2)\n",
    "bounds = torch.linspace(-1.1, 1.1, 4)\n",
    "\n",
    "cdf = vectorised_discretised_cdf(mu, sigma, bounds)\n",
    "\n",
    "print(cdf)"
   ]
  }
 ],
 "metadata": {
  "kernelspec": {
   "display_name": "ml",
   "language": "python",
   "name": "python3"
  },
  "language_info": {
   "codemirror_mode": {
    "name": "ipython",
    "version": 3
   },
   "file_extension": ".py",
   "mimetype": "text/x-python",
   "name": "python",
   "nbconvert_exporter": "python",
   "pygments_lexer": "ipython3",
   "version": "3.11.7"
  }
 },
 "nbformat": 4,
 "nbformat_minor": 2
}
