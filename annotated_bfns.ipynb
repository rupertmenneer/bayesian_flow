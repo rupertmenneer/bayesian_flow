{
 "cells": [
  {
   "cell_type": "markdown",
   "metadata": {},
   "source": [
    "# Bayesian Flow Networks\n",
    "\n",
    "The 'Bayesian Flow Networks' paper is a new generative modelling approach proposed by Alex Graves et al (2023). The paper sets out a general mathematical framework to transform a known distribution into a target distribution for Continuous, Discretised Continuous and Discrete settings. Although, closely related to Diffusion based models it differs in several key aspects. This notebook will run through each step trying to make the process as clear as possible.\n",
    "\n",
    "Although the paper starts with the 'general' framework and then customises it to each of the use cases, this post will focus first on the discrete case.\n"
   ]
  },
  {
   "cell_type": "code",
   "execution_count": null,
   "metadata": {},
   "outputs": [],
   "source": [
    "import os\n",
    "import random\n",
    "from math import inf\n",
    "import matplotlib.pyplot as plt\n",
    "import numpy as np\n",
    "import torch\n",
    "import torch.nn as nn\n",
    "import torch.nn.functional as F\n",
    "import torch_ema\n",
    "import torchvision\n",
    "import torchvision.transforms as transforms\n",
    "from torch.nn.functional import relu\n",
    "from torch.optim import AdamW\n",
    "from tqdm.auto import notebook_tqdm\n",
    "\n",
    "from dataset import DynamicallyBinarizedMNISTDataLoaders, DynamicallyBinarizedMNIST\n",
    "from utility_functions import show_samples"
   ]
  },
  {
   "cell_type": "code",
   "execution_count": null,
   "metadata": {},
   "outputs": [],
   "source": [
    "dyn_binarised_mnist_dls = DynamicallyBinarizedMNISTDataLoaders()"
   ]
  },
  {
   "cell_type": "code",
   "execution_count": null,
   "metadata": {},
   "outputs": [],
   "source": []
  }
 ],
 "metadata": {
  "kernelspec": {
   "display_name": "ml",
   "language": "python",
   "name": "python3"
  },
  "language_info": {
   "codemirror_mode": {
    "name": "ipython",
    "version": 3
   },
   "file_extension": ".py",
   "mimetype": "text/x-python",
   "name": "python",
   "nbconvert_exporter": "python",
   "pygments_lexer": "ipython3",
   "version": "3.11.7"
  }
 },
 "nbformat": 4,
 "nbformat_minor": 2
}
